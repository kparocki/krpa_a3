{
 "cells": [
  {
   "attachments": {},
   "cell_type": "markdown",
   "id": "181bbe29-26f4-4c4a-a9e9-0053263bff52",
   "metadata": {},
   "source": [
    "# Assignment: Scalable Processing\n",
    "## Yelp Reviews and Authenticity\n",
    "\n",
    "LargeScaleDataAnalysis | by Krzysztof Michal Parocki | krpa@itu.dk | 30.04.2023"
   ]
  },
  {
   "attachments": {},
   "cell_type": "markdown",
   "id": "92690678-bb97-43d7-ab27-4a6f8db87079",
   "metadata": {},
   "source": [
    "## Connecting to the Spark Cluster job using the two JobParameters.json\n",
    "\n",
    "To connect this jupyter notebook with your Spark cluster, we need to tell jupyter how it can access the spark cluster. Below code accomplishes that. "
   ]
  },
  {
   "cell_type": "code",
   "execution_count": 4,
   "id": "d483a774-a0ca-4873-a2ee-51d2fcd30ead",
   "metadata": {
    "execution": {
     "iopub.execute_input": "2023-05-14T18:18:53.290131Z",
     "iopub.status.busy": "2023-05-14T18:18:53.289297Z",
     "iopub.status.idle": "2023-05-14T18:19:21.482164Z",
     "shell.execute_reply": "2023-05-14T18:19:21.480518Z",
     "shell.execute_reply.started": "2023-05-14T18:18:53.290074Z"
    },
    "tags": []
   },
   "outputs": [],
   "source": [
    "#####################################################################\n",
    "# DO NOT CHANGE ANYTHING HERE.\n",
    "# IF YOU HAVE PROBLEMS, CHECK THE ASSIGNMENT GUIDE CAREFULLY \n",
    "#####################################################################\n",
    "    \n",
    "FIRST_EXECUTION = False\n",
    "# Only execute this cell once.\n",
    "if not FIRST_EXECUTION:\n",
    "    FIRST_EXECUTION = True\n",
    "    import os, json, pyspark\n",
    "    from pyspark.conf import SparkConf\n",
    "    from pyspark.sql import SparkSession, functions as F\n",
    "\n",
    "    # Two files are automatically read: JobParameters.json for the Spark Cluster job using a temporary spark instance\n",
    "    # and JobParameters.json for the Jupyter Lab job to extract the hostname of the cluster. \n",
    "\n",
    "    MASTER_HOST_NAME = None\n",
    "\n",
    "    # Open the parameters Jupyter Lab app was launched with\n",
    "    with open('/work/JobParameters.json', 'r') as file:\n",
    "        JUPYTER_LAB_JOB_PARAMS = json.load(file)\n",
    "        # from pprint import pprint; pprint(JUPYTER_LAB_JOB_PARAMS) \n",
    "        for resource in JUPYTER_LAB_JOB_PARAMS['request']['resources']:\n",
    "            if 'hostname' in resource.keys():\n",
    "                MASTER_HOST_NAME = resource['hostname']\n",
    "\n",
    "    MASTER_HOST = f\"spark://{MASTER_HOST_NAME}:7077\"\n",
    "\n",
    "    conf = SparkConf().setAll([\n",
    "            (\"spark.app.name\", 'reading_job_params_app'), \n",
    "            (\"spark.master\", MASTER_HOST),\n",
    "        ])\n",
    "    spark = SparkSession.builder.config(conf=conf)\\\n",
    "                                .getOrCreate()\n",
    "\n",
    "    CLUSTER_PARAMETERS_JSON_DF = spark.read.option(\"multiline\",\"true\").json('/work/JobParameters.json')\n",
    "\n",
    "    # Extract cluster info from the specific JobParameters.json\n",
    "    NODES = CLUSTER_PARAMETERS_JSON_DF.select(\"request.replicas\").first()[0]\n",
    "    CPUS_PER_NODE = CLUSTER_PARAMETERS_JSON_DF.select(\"machineType.cpu\").first()[0] - 1\n",
    "    MEM_PER_NODE = CLUSTER_PARAMETERS_JSON_DF.select(\"machineType.memoryInGigs\").first()[0]\n",
    "\n",
    "    CLUSTER_CORES_MAX = CPUS_PER_NODE * NODES\n",
    "    CLUSTER_MEMORY_MAX = MEM_PER_NODE * NODES \n",
    "\n",
    "    EXECUTOR_CORES = CPUS_PER_NODE - 1  # set cores per executor on worker node\n",
    "    EXECUTOR_MEMORY = int(\n",
    "        MEM_PER_NODE / (CPUS_PER_NODE / EXECUTOR_CORES) * 0.5\n",
    "    )  # set executor memory in GB on each worker node\n",
    "\n",
    "    # Make sure there is a dir for spark logs\n",
    "    if not os.path.exists('spark_logs'):\n",
    "        os.mkdir('spark_logs')\n",
    "\n",
    "    conf = SparkConf().setAll(\n",
    "        [\n",
    "            (\"spark.app.name\", 'spark_assignment'), # Change to your liking \n",
    "            (\"spark.sql.caseSensitive\", False), # Optional: Make queries strings sensitive to captialization\n",
    "            (\"spark.master\", MASTER_HOST),\n",
    "            (\"spark.cores.max\", CLUSTER_CORES_MAX),\n",
    "            (\"spark.executor.cores\", EXECUTOR_CORES),\n",
    "            (\"spark.executor.memory\", str(EXECUTOR_MEMORY) + \"g\"),\n",
    "            (\"spark.eventLog.enabled\", True),\n",
    "            (\"spark.eventLog.dir\", \"spark_logs\"),\n",
    "            (\"spark.history.fs.logDirectory\", \"spark_logs\"),\n",
    "            (\"spark.deploy.mode\", \"cluster\"),\n",
    "        ]\n",
    "    )\n",
    "\n",
    "    ## check executor memory, taking into accout 10% of memory overhead (minimum 384 MiB)\n",
    "    CHECK = (CLUSTER_CORES_MAX / EXECUTOR_CORES) * (\n",
    "        EXECUTOR_MEMORY + max(EXECUTOR_MEMORY * 0.10, 0.403)\n",
    "    )\n",
    "\n",
    "    assert (\n",
    "        int(CHECK) <= CLUSTER_MEMORY_MAX\n",
    "    ), \"Executor memory larger than cluster total memory!\"\n",
    "\n",
    "    # Stop previous session that was just for loading cluster params\n",
    "    spark.stop()\n",
    "\n",
    "    # Start new session with above config, that has better resource handling\n",
    "    spark = SparkSession.builder.config(conf=conf)\\\n",
    "                                .getOrCreate()\n",
    "    sc = spark.sparkContext"
   ]
  },
  {
   "attachments": {},
   "cell_type": "markdown",
   "id": "93bbb4de-8b40-4364-b8d3-2cc488b16cbf",
   "metadata": {},
   "source": [
    "Click on the \"SparkMonitor\" tab at the top in Jupyter Lab to see the status of running code on the cluster."
   ]
  },
  {
   "attachments": {},
   "cell_type": "markdown",
   "id": "b1de3dec-d95c-44b9-a996-12e97cc34c2b",
   "metadata": {},
   "source": [
    "## Loading the data\n",
    "Here we specify where the yelp datasets are located on UCloud and read then using the spark session."
   ]
  },
  {
   "cell_type": "code",
   "execution_count": 5,
   "id": "5fa96702-5902-4482-9cd2-77d6f5da0f75",
   "metadata": {
    "execution": {
     "iopub.execute_input": "2023-05-14T18:19:21.574378Z",
     "iopub.status.busy": "2023-05-14T18:19:21.574147Z",
     "iopub.status.idle": "2023-05-14T18:19:40.363540Z",
     "shell.execute_reply": "2023-05-14T18:19:40.362026Z",
     "shell.execute_reply.started": "2023-05-14T18:19:21.574357Z"
    },
    "tags": []
   },
   "outputs": [],
   "source": [
    "# Read in the business and review files\n",
    "# This is the path to the shared datasets provided by adding an the dataset input folder\n",
    "# when submitting the spark cluster job.\n",
    "business = spark.read.json('file:////work/yelp/yelp_academic_dataset_business.json') # Use the file:/// prefix to indicate we want to read from the cluster's filesystem\n",
    "business = business.persist()\n",
    "# Persist 2 commonly used dataframes since they're used for later computations\n",
    "# https://sparkbyexamples.com/spark/spark-difference-between-cache-and-persist/\n",
    "\n",
    "users = spark.read.json(\"file:////work/yelp/yelp_academic_dataset_user.json\")\n",
    "\n",
    "reviews = spark.read.json('file:////work/yelp/yelp_academic_dataset_review.json')\n",
    "reviews = reviews.persist()"
   ]
  },
  {
   "cell_type": "code",
   "execution_count": 3,
   "id": "e89f6184-410e-4a04-a4a1-7b080353dc1f",
   "metadata": {
    "execution": {
     "iopub.execute_input": "2023-05-14T18:07:04.262697Z",
     "iopub.status.busy": "2023-05-14T18:07:04.262000Z",
     "iopub.status.idle": "2023-05-14T18:07:19.855508Z",
     "shell.execute_reply": "2023-05-14T18:07:19.854497Z",
     "shell.execute_reply.started": "2023-05-14T18:07:04.262644Z"
    },
    "tags": []
   },
   "outputs": [
    {
     "data": {
      "text/plain": [
       "6990280"
      ]
     },
     "execution_count": 3,
     "metadata": {},
     "output_type": "execute_result"
    }
   ],
   "source": [
    "# Get number of rows with no sampling:\n",
    "reviews.count()"
   ]
  },
  {
   "cell_type": "code",
   "execution_count": 4,
   "id": "cc31d1a2-3571-49cd-af5a-98d6d23027de",
   "metadata": {
    "execution": {
     "iopub.execute_input": "2023-05-14T18:07:19.858238Z",
     "iopub.status.busy": "2023-05-14T18:07:19.857602Z",
     "iopub.status.idle": "2023-05-14T18:07:19.862938Z",
     "shell.execute_reply": "2023-05-14T18:07:19.862232Z",
     "shell.execute_reply.started": "2023-05-14T18:07:19.858194Z"
    },
    "tags": []
   },
   "outputs": [],
   "source": [
    "# OPTIONAL:\n",
    "# Reduce resource usage and make queries run faster\n",
    "# by only using a small sample of the dataframe\n",
    "# and overwriting previous variable \"df\".\n",
    "# Useful while developing, not so much to\n",
    "# provide final answers. Therefore: Remember to \n",
    "# to re-read the df when done developing code using\n",
    "# df = spark.read etc like above.\n",
    "#reviews = reviews.sample(withReplacement=False, fraction=1/50)\n",
    "\n",
    "# Get number of rows after sampling:\n",
    "#reviews.count() "
   ]
  },
  {
   "cell_type": "code",
   "execution_count": 5,
   "id": "b7a10360-b8de-4e02-b0e0-89ef8312117c",
   "metadata": {
    "execution": {
     "iopub.execute_input": "2023-05-14T18:07:19.864150Z",
     "iopub.status.busy": "2023-05-14T18:07:19.863897Z",
     "iopub.status.idle": "2023-05-14T18:07:20.664780Z",
     "shell.execute_reply": "2023-05-14T18:07:20.663260Z",
     "shell.execute_reply.started": "2023-05-14T18:07:19.864128Z"
    }
   },
   "outputs": [
    {
     "name": "stdout",
     "output_type": "stream",
     "text": [
      "+--------------------+----+-------------------+-----+--------------------+-----+--------------------+------+--------------------+\n",
      "|         business_id|cool|               date|funny|           review_id|stars|                text|useful|             user_id|\n",
      "+--------------------+----+-------------------+-----+--------------------+-----+--------------------+------+--------------------+\n",
      "|XQfwVwDr-v0ZS3_Cb...|   0|2018-07-07 22:09:11|    0|KU_O5udG6zpxOg-Vc...|  3.0|If you decide to ...|     0|mh_-eMZ6K5RLWhZyI...|\n",
      "|7ATYjTIgM3jUlt4UM...|   1|2012-01-03 15:28:18|    0|BiTunyQ73aT9WBnpR...|  5.0|I've taken a lot ...|     1|OyoGAe7OKpv6SyGZT...|\n",
      "|YjUWPpI6HXG530lwP...|   0|2014-02-05 20:30:30|    0|saUsX_uimxRlCVr67...|  3.0|Family diner. Had...|     0|8g_iMtfSiwikVnbP2...|\n",
      "|kxX2SOes4o-D3ZQBk...|   1|2015-01-04 00:01:03|    0|AqPFMleE6RsU23_au...|  5.0|Wow!  Yummy, diff...|     1|_7bHUi9Uuf5__HHc_...|\n",
      "|e4Vwtrqf-wpJfwesg...|   1|2017-01-14 20:54:15|    0|Sx8TMOWLNuJBWer-0...|  4.0|Cute interior and...|     1|bcjbaE6dDog4jkNY9...|\n",
      "|04UD14gamNjLY0IDY...|   1|2015-09-23 23:10:31|    2|JrIxlS1TzJ-iCu79u...|  1.0|I am a long term ...|     1|eUta8W_HdHMXPzLBB...|\n",
      "|gmjsEdUsKpj9Xxu6p...|   0|2015-01-03 23:21:18|    2|6AxgBCNX_PNTOxmbR...|  5.0|Loved this tour! ...|     0|r3zeYsv1XFBRA4dJp...|\n",
      "|LHSTtnW3YHCeUkRDG...|   0|2015-08-07 02:29:16|    0|_ZeMknuYdlQcUqng_...|  5.0|Amazingly amazing...|     2|yfFzsLmaWF2d4Sr0U...|\n",
      "|B5XSoSG3SfvQGtKEG...|   0|2016-03-30 22:46:33|    1|ZKvDG2sBvHVdF5oBN...|  3.0|This easter inste...|     1|wSTuiTk-sKNdcFypr...|\n",
      "|gebiRewfieSdtt17P...|   0|2016-07-25 07:31:06|    0|pUycOfUwM8vqX7KjR...|  3.0|Had a party of 6 ...|     0|59MxRhNVhU9MYndMk...|\n",
      "|uMvVYRgGNXf5boolA...|   0|2015-06-21 14:48:06|    0|rGQRf8UafX7OTlMNN...|  5.0|My experience wit...|     2|1WHRWwQmZOZDAhp2Q...|\n",
      "|EQ-TZ2eeD_E0BHuvo...|   0|2015-08-19 14:31:45|    0|l3Wk_mvAog6XANIuG...|  4.0|Locals recommende...|     0|ZbqSHbgCjzVAqaa7N...|\n",
      "|lj-E32x9_FA7GmUrB...|   0|2014-06-27 22:44:01|    0|XW_LfMv0fV21l9c6x...|  4.0|Love going here f...|     0|9OAtfnWag-ajVxRbU...|\n",
      "|RZtGWDLCAtuipwaZ-...|   0|2009-10-14 19:57:14|    0|8JFGBuHMoiNDyfcxu...|  4.0|Good food--loved ...|     0|smOvOajNG0lS4Pq7d...|\n",
      "|otQS34_MymijPTdNB...|   0|2011-10-27 17:12:05|    2|UBp0zWyH60Hmw6Fsa...|  4.0|The bun makes the...|     0|4Uh27DgGzsp6PqrH9...|\n",
      "|BVndHaLihEYbr76Z0...|   0|2014-10-11 16:22:06|    0|OAhBYw8IQ6wlfw1ow...|  5.0|Great place for b...|     0|1C2lxzUo1Hyye4RFI...|\n",
      "|YtSqYv1Q_pOltsVPS...|   0|2013-06-24 11:21:25|    0|oyaMhzBSwfGgemSGu...|  5.0|Tremendous servic...|     0|Dd1jQj7S-BFGqRbAp...|\n",
      "|rBdG_23USc7DletfZ...|   0|2014-08-10 19:41:43|    0|LnGZB0fjfgeVDVz5I...|  4.0|The hubby and I h...|     1|j2wlzrntrbKwyOcOi...|\n",
      "|CLEWowfkj-wKYJlQD...|   1|2016-03-07 00:02:18|    0|u2vzZaOqJ2feRshaa...|  5.0|I go to blow bar ...|     2|NDZvyYHTUWWu-kqgQ...|\n",
      "|eFvzHawVJofxSnD7T...|   0|2014-11-12 15:30:27|    0|Xs8Z8lmKkosqW5mw_...|  5.0|My absolute favor...|     0|IQsF3Rc6IgCzjVV9D...|\n",
      "+--------------------+----+-------------------+-----+--------------------+-----+--------------------+------+--------------------+\n",
      "only showing top 20 rows\n",
      "\n"
     ]
    }
   ],
   "source": [
    "reviews.show()"
   ]
  },
  {
   "cell_type": "code",
   "execution_count": 6,
   "id": "20087cdb-d6f2-4aab-9fe2-bf3f072044db",
   "metadata": {
    "execution": {
     "iopub.execute_input": "2023-05-14T18:07:20.671086Z",
     "iopub.status.busy": "2023-05-14T18:07:20.670447Z",
     "iopub.status.idle": "2023-05-14T18:07:22.155251Z",
     "shell.execute_reply": "2023-05-14T18:07:22.153773Z",
     "shell.execute_reply.started": "2023-05-14T18:07:20.671040Z"
    },
    "tags": []
   },
   "outputs": [
    {
     "name": "stdout",
     "output_type": "stream",
     "text": [
      "+--------------------+--------------------+--------------------+--------------------+--------------+--------------------+-------+-------------+--------------+--------------------+-----------+------------+-----+-----+\n",
      "|             address|          attributes|         business_id|          categories|          city|               hours|is_open|     latitude|     longitude|                name|postal_code|review_count|stars|state|\n",
      "+--------------------+--------------------+--------------------+--------------------+--------------+--------------------+-------+-------------+--------------+--------------------+-----------+------------+-----+-----+\n",
      "|1616 Chapala St, ...|{null, null, null...|Pns2l4eNsfO8kk83d...|Doctors, Traditio...| Santa Barbara|                null|      0|   34.4266787|  -119.7111968|Abby Rappoport, L...|      93101|           7|  5.0|   CA|\n",
      "|87 Grasso Plaza S...|{null, null, null...|mpf3x-BjTdTEA3yCZ...|Shipping Centers,...|        Affton|{8:0-18:30, 0:0-0...|      1|    38.551126|    -90.335695|       The UPS Store|      63123|          15|  3.0|   MO|\n",
      "|5255 E Broadway Blvd|{null, null, null...|tUFrWirKiKi_TAnsV...|Department Stores...|        Tucson|{8:0-23:0, 8:0-22...|      0|    32.223236|   -110.880452|              Target|      85711|          22|  3.5|   AZ|\n",
      "|         935 Race St|{null, null, u'no...|MTSW4McQd7CbVtyjq...|Restaurants, Food...|  Philadelphia|{7:0-21:0, 7:0-20...|      1|   39.9555052|   -75.1555641|  St Honore Pastries|      19107|          80|  4.0|   PA|\n",
      "|       101 Walnut St|{null, null, null...|mWMc6_wTdE0EUBKIG...|Brewpubs, Breweri...|    Green Lane|{12:0-22:0, null,...|      1|   40.3381827|   -75.4716585|Perkiomen Valley ...|      18054|          13|  4.5|   PA|\n",
      "|       615 S Main St|{null, null, u'no...|CF33F8-E6oudUQ46H...|Burgers, Fast Foo...|  Ashland City|{9:0-0:0, 0:0-0:0...|      1|    36.269593|    -87.058943|      Sonic Drive-In|      37015|           6|  2.0|   TN|\n",
      "|8522 Eager Road, ...|{null, null, null...|n_0UpQx1hsNbnPUSl...|Sporting Goods, F...|     Brentwood|{10:0-18:0, 0:0-0...|      1|    38.627695|    -90.340465|     Famous Footwear|      63144|          13|  2.5|   MO|\n",
      "|  400 Pasadena Ave S|                null|qkRM_2X51Yqxk3btl...|Synagogues, Relig...|St. Petersburg|{9:0-17:0, 9:0-17...|      1|     27.76659|    -82.732983|      Temple Beth-El|      33707|           5|  3.5|   FL|\n",
      "|   8025 Mackenzie Rd|{null, null, u'fu...|k0hlBqXX-Bt0vf1op...|Pubs, Restaurants...|        Affton|                null|      0|   38.5651648|   -90.3210868|Tsevi's Pub And G...|      63123|          19|  3.0|   MO|\n",
      "| 2312 Dickerson Pike|{null, null, u'no...|bBDDEgkFA1Otx9Lfe...|Ice Cream & Froze...|     Nashville|{6:0-16:0, 0:0-0:...|      1|   36.2081024|   -86.7681696|      Sonic Drive-In|      37207|          10|  1.5|   TN|\n",
      "|21705 Village Lak...|{null, null, null...|UJsufbvfyfONHeWdv...|Department Stores...| Land O' Lakes|{9:30-21:30, 9:30...|      1|28.1904587953|-82.4573802199|           Marshalls|      34639|           6|  3.5|   FL|\n",
      "|                    |{null, null, 'non...|eEOYSgkmpB90uNA7l...|Vietnamese, Food,...|     Tampa Bay|{11:0-14:0, 11:0-...|      1|   27.9552692|   -82.4563199|Vietnamese Food T...|      33602|          10|  4.0|   FL|\n",
      "|        8901 US 31 S|{null, null, 'non...|il_Ro8jwPlHresjw9...|American (Traditi...|  Indianapolis|{6:0-22:0, 6:0-22...|      1|39.6371332838| -86.127217412|             Denny's|      46227|          28|  2.5|   IN|\n",
      "|   15 N Missouri Ave|{null, null, null...|jaxMSoInw8Poo3XeM...|General Dentistry...|    Clearwater|{null, 7:30-15:30...|      1|    27.966235|    -82.787412|        Adams Dental|      33755|          10|  5.0|   FL|\n",
      "|       2575 E Bay Dr|{null, null, u'no...|0bPLkL0QhhPO5kt1_...|Food, Delis, Ital...|         Largo|{10:0-20:0, 10:0-...|      0|   27.9161159|   -82.7604608|Zio's Italian Market|      33771|         100|  4.5|   FL|\n",
      "|         205 Race St|{null, null, 'ful...|MUTTqe8uqyMdBl186...|Sushi Bars, Resta...|  Philadelphia|{13:30-23:0, null...|      1|    39.953949|   -75.1432262|            Tuna Bar|      19106|         245|  4.0|   PA|\n",
      "|     625 N Stone Ave|{null, null, null...|rBmpy_Y1UbBx8ggHl...|Automotive, Auto ...|        Tucson|{8:0-17:0, 0:0-0:...|      1|   32.2298719|  -110.9723419|Arizona Truck Out...|      85705|          10|  4.5|   AZ|\n",
      "|        712 Adams St|{null, null, null...|M0XSSHqrASOnhgbWD...|Vape Shops, Tobac...|   New Orleans|{10:0-19:0, 10:0-...|      1|29.9414679565| -90.129952757|      Herb Import Co|      70118|           5|  4.0|   LA|\n",
      "|     1241 Airline Dr|                null|8wGISYjYkE2tSqn3c...|Automotive, Car R...|        Kenner|{8:0-17:0, 8:0-17...|      1|    29.981183|   -90.2540123|    Nifty Car Rental|      70062|          14|  3.5|   LA|\n",
      "|       1224 South St|{null, null, u'no...|ROeacJQwBeh05Rqg7...| Korean, Restaurants|  Philadelphia|{11:30-20:30, 11:...|      1|    39.943223|    -75.162568|                 BAP|      19147|         205|  4.5|   PA|\n",
      "+--------------------+--------------------+--------------------+--------------------+--------------+--------------------+-------+-------------+--------------+--------------------+-----------+------------+-----+-----+\n",
      "only showing top 20 rows\n",
      "\n"
     ]
    }
   ],
   "source": [
    "business.show()"
   ]
  },
  {
   "attachments": {},
   "cell_type": "markdown",
   "id": "7d258fa6-1402-4c3a-a252-a9dbfd4a87d9",
   "metadata": {},
   "source": [
    "Example: Say we're only interested in reviews of good mexican restaurants in Arizona. You can delete this when you do your own thing. "
   ]
  },
  {
   "cell_type": "code",
   "execution_count": 7,
   "id": "07983acb-15d8-45ea-9d12-3bc8759280b4",
   "metadata": {
    "execution": {
     "iopub.execute_input": "2023-05-14T18:07:22.158471Z",
     "iopub.status.busy": "2023-05-14T18:07:22.157404Z",
     "iopub.status.idle": "2023-05-14T18:07:30.926653Z",
     "shell.execute_reply": "2023-05-14T18:07:30.925653Z",
     "shell.execute_reply.started": "2023-05-14T18:07:22.158415Z"
    },
    "tags": []
   },
   "outputs": [
    {
     "name": "stdout",
     "output_type": "stream",
     "text": [
      "+--------------------+--------------------+\n",
      "|                name|                text|\n",
      "+--------------------+--------------------+\n",
      "|Casa Molina Del N...|We've been coming...|\n",
      "|St Mary's Mexican...|Some of the fines...|\n",
      "|Street- Taco and ...|Top notch street ...|\n",
      "|Indian Frybread-M...|This place is a h...|\n",
      "|St Mary's Mexican...|One of my favorit...|\n",
      "|Street- Taco and ...|This is my favori...|\n",
      "|Street- Taco and ...|Great food!  Grea...|\n",
      "|            BK Tacos|Quality ingredien...|\n",
      "|Street- Taco and ...|Best tacos in Tuc...|\n",
      "|        El Merendero|This place was fr...|\n",
      "|        El Merendero|To the reviewer w...|\n",
      "|Taqueria Pico De ...|If you are lookin...|\n",
      "|               Penca|Good unique Mexic...|\n",
      "|   La Mesa Tortillas|Incredible red ch...|\n",
      "|               Penca|I love this place...|\n",
      "|            BK Tacos|This place is the...|\n",
      "|Indian Frybread-M...|Wow! My sister ha...|\n",
      "|St Mary's Mexican...|Carne Seca burro ...|\n",
      "|             Club 21|The food was exce...|\n",
      "|      El Charro Cafe|This is the best ...|\n",
      "+--------------------+--------------------+\n",
      "only showing top 20 rows\n",
      "\n"
     ]
    }
   ],
   "source": [
    "# Filter to only Arizona businesses with \"Mexican\" as part of their categories\n",
    "az_mex = business.filter(business.state == \"AZ\")\\\n",
    "                .filter(business.categories.rlike(\"Mexican\"))\\\n",
    "                .select(\"business_id\", \"name\")\n",
    "\n",
    "# Join with the reviews\n",
    "az_mex_rs = reviews.join(az_mex, on=\"business_id\", how=\"inner\")\n",
    "\n",
    "# Filter to only 5 star reviews\n",
    "good_az_mex_rs = az_mex_rs.filter(az_mex_rs.stars == 5)\\\n",
    "                        .select(\"name\",\"text\")\n",
    "\n",
    "# Print the top 20 rows of the DataFrame\n",
    "good_az_mex_rs.show()\n",
    "\n",
    "# Convert to pandas (local object) and save to local file system\n",
    "good_az_mex_rs.toPandas().to_csv(\"good_az_reviews.csv\", header=True, index=False, encoding='utf-8')\n"
   ]
  },
  {
   "attachments": {},
   "cell_type": "markdown",
   "id": "e73eb672-8769-4c6a-856d-18d55d83aabb",
   "metadata": {
    "tags": []
   },
   "source": [
    "## 3.1 DataFrame Queries"
   ]
  },
  {
   "cell_type": "code",
   "execution_count": 8,
   "id": "14b67f67-1de4-491f-8fee-e8cf80f9f775",
   "metadata": {
    "execution": {
     "iopub.execute_input": "2023-05-14T18:07:30.928394Z",
     "iopub.status.busy": "2023-05-14T18:07:30.928153Z",
     "iopub.status.idle": "2023-05-14T18:07:31.717512Z",
     "shell.execute_reply": "2023-05-14T18:07:31.715382Z",
     "shell.execute_reply.started": "2023-05-14T18:07:30.928372Z"
    },
    "tags": []
   },
   "outputs": [
    {
     "name": "stdout",
     "output_type": "stream",
     "text": [
      "+-----------------+\n",
      "|sum(review_count)|\n",
      "+-----------------+\n",
      "|          6745508|\n",
      "+-----------------+\n",
      "\n"
     ]
    }
   ],
   "source": [
    "business.groupBy().sum('review_count').show()"
   ]
  },
  {
   "cell_type": "code",
   "execution_count": 9,
   "id": "52d6893b-de97-4d7d-9e4c-1e3254200ec1",
   "metadata": {
    "execution": {
     "iopub.execute_input": "2023-05-14T18:07:31.721801Z",
     "iopub.status.busy": "2023-05-14T18:07:31.720999Z",
     "iopub.status.idle": "2023-05-14T18:07:37.554574Z",
     "shell.execute_reply": "2023-05-14T18:07:37.553029Z",
     "shell.execute_reply.started": "2023-05-14T18:07:31.721743Z"
    },
    "tags": []
   },
   "outputs": [
    {
     "name": "stdout",
     "output_type": "stream",
     "text": [
      "+--------------------+-----+\n",
      "|                name|count|\n",
      "+--------------------+-----+\n",
      "|           Starbucks|21575|\n",
      "|          McDonald's|18210|\n",
      "|             Dunkin'|10312|\n",
      "|Chipotle Mexican ...| 9763|\n",
      "|         First Watch| 9317|\n",
      "|           Taco Bell| 8636|\n",
      "|   Acme Oyster House| 8491|\n",
      "|         Chick-fil-A| 8378|\n",
      "|        Panera Bread| 7565|\n",
      "|        Oceana Grill| 7516|\n",
      "|  Buffalo Wild Wings| 7347|\n",
      "|             Chili's| 6565|\n",
      "|      Domino's Pizza| 6539|\n",
      "|      Steak ’n Shake| 6455|\n",
      "|                IHOP| 6443|\n",
      "|             Wendy's| 6397|\n",
      "|  Outback Steakhouse| 6207|\n",
      "|Hattie B’s Hot Ch...| 6160|\n",
      "|Applebee's Grill ...| 6146|\n",
      "|   Ruby Slipper Cafe| 5882|\n",
      "+--------------------+-----+\n",
      "only showing top 20 rows\n",
      "\n"
     ]
    }
   ],
   "source": [
    "#1. Analyze business.json to find the total number of reviews for all businesses. The output should be in the form of a Spark DataFrame with one value representing the count.\n",
    "bus_rev=business.join(reviews, on='business_id', how='inner')\n",
    "count_df = bus_rev.groupby('name')\\\n",
    ".agg({'review_id':'count'})\\\n",
    ".withColumnRenamed('count(review_id)', 'count')\n",
    "count_df.orderBy('count', ascending=False).show()"
   ]
  },
  {
   "cell_type": "code",
   "execution_count": 10,
   "id": "09e3038a-c660-467c-bfcf-3e2dff4a4651",
   "metadata": {
    "execution": {
     "iopub.execute_input": "2023-05-14T18:07:37.557606Z",
     "iopub.status.busy": "2023-05-14T18:07:37.556799Z",
     "iopub.status.idle": "2023-05-14T18:07:38.562685Z",
     "shell.execute_reply": "2023-05-14T18:07:38.561317Z",
     "shell.execute_reply.started": "2023-05-14T18:07:37.557551Z"
    },
    "tags": []
   },
   "outputs": [
    {
     "name": "stdout",
     "output_type": "stream",
     "text": [
      "+--------------------+-----+------------+\n",
      "|                name|stars|review_count|\n",
      "+--------------------+-----+------------+\n",
      "|     Blues City Deli|  5.0|         991|\n",
      "|            Tumerico|  5.0|         705|\n",
      "|  Free Tours By Foot|  5.0|         769|\n",
      "|                Yats|  5.0|         623|\n",
      "|   SUGARED + BRONZED|  5.0|         513|\n",
      "|Nelson's Green Br...|  5.0|         545|\n",
      "|Smiling With Hope...|  5.0|         526|\n",
      "|    Carlillos Cocina|  5.0|         799|\n",
      "|Barracuda Deli Ca...|  5.0|         521|\n",
      "+--------------------+-----+------------+\n",
      "\n"
     ]
    }
   ],
   "source": [
    "#2. Analyze business.json to find all businesses that have received 5 stars and that have been reviewed by 500 or more users. The output should be in the form of DataFrame of (name, stars, review count).\n",
    "business_five = business.filter((business.stars == 5)\\\n",
    "& (business.review_count>=500))\\\n",
    ".select(\"name\",\"stars\",\"review_count\")\n",
    "business_five.show()"
   ]
  },
  {
   "cell_type": "code",
   "execution_count": 11,
   "id": "90c53d32-efae-41bd-b63a-f93f1e6f701e",
   "metadata": {
    "execution": {
     "iopub.execute_input": "2023-05-14T18:07:38.565672Z",
     "iopub.status.busy": "2023-05-14T18:07:38.565059Z",
     "iopub.status.idle": "2023-05-14T18:07:39.053053Z",
     "shell.execute_reply": "2023-05-14T18:07:38.998821Z",
     "shell.execute_reply.started": "2023-05-14T18:07:38.565617Z"
    },
    "tags": []
   },
   "outputs": [
    {
     "name": "stdout",
     "output_type": "stream",
     "text": [
      "+--------------------+\n",
      "|             user_id|\n",
      "+--------------------+\n",
      "|j14WgRoU_-2ZE1aw1...|\n",
      "|q_QQ5kBBwlCcbL1s4...|\n",
      "|MGPQVLsODMm9ZtYQW...|\n",
      "|NIhcRW6DWvk1JQhDh...|\n",
      "|QJI9OSEn6ujRCtrX0...|\n",
      "|AkBtT43dYcttxQ3qO...|\n",
      "|2l0O1EI1m0yWjFo2z...|\n",
      "|RgDVC3ZUBqpEe6Y1k...|\n",
      "|lquc6IF6uGIeRomDL...|\n",
      "|VHdY6oG2JPVNjihWh...|\n",
      "|om5ZiponkpRqUNa3p...|\n",
      "|K7thO1n-vZ9PFYiC7...|\n",
      "|UQFE3BT1rsIYrcDvu...|\n",
      "|jVYzrVblDFSuL3GHt...|\n",
      "|3zxy3LVBV3ttxoYbY...|\n",
      "|0G-QF457q_0Z_jKqh...|\n",
      "|ITa3vh5ERI90G_WP4...|\n",
      "|P5bUL3Engv-2z6kKo...|\n",
      "|ouODopBKF3AqfCkuQ...|\n",
      "|YMgZqBUAddmFErxLt...|\n",
      "+--------------------+\n",
      "only showing top 20 rows\n",
      "\n"
     ]
    }
   ],
   "source": [
    "#3. Analyze user.json to find the influencers who have written more than 1000 reviews. The output should be in the form of DataFrame of user id.\n",
    "influ = users.filter(users.review_count>1000).select('user_id')\n",
    "influ.show()"
   ]
  },
  {
   "cell_type": "code",
   "execution_count": 12,
   "id": "cfddb1db-bdb3-43ae-8ba4-85671d5ef566",
   "metadata": {
    "execution": {
     "iopub.execute_input": "2023-05-14T18:07:39.058271Z",
     "iopub.status.busy": "2023-05-14T18:07:39.057323Z",
     "iopub.status.idle": "2023-05-14T18:07:46.550220Z",
     "shell.execute_reply": "2023-05-14T18:07:46.548258Z",
     "shell.execute_reply.started": "2023-05-14T18:07:39.058196Z"
    },
    "tags": []
   },
   "outputs": [
    {
     "name": "stdout",
     "output_type": "stream",
     "text": [
      "+--------------------+-----+\n",
      "|                name|count|\n",
      "+--------------------+-----+\n",
      "| Brothers III Lounge|    8|\n",
      "|Applebee's Grill ...|   94|\n",
      "|          Ohana Cafe|    8|\n",
      "|City Coffee & Crê...|   17|\n",
      "|         Jazzy's BBQ|    8|\n",
      "|Señor Tequila Mex...|    9|\n",
      "|Woodrow's Sandwic...|   10|\n",
      "|Straz Center for ...|   12|\n",
      "|    McAlister's Deli|   60|\n",
      "| Gran Caffe L'Aquila|   22|\n",
      "|        Santo Mezcal|    8|\n",
      "|Suncoast Credit U...|    9|\n",
      "|     LaScala's Birra|   11|\n",
      "|Goodyear Auto Ser...|    6|\n",
      "|Iron Hill Brewery...|   81|\n",
      "|   Swizzle Stick Bar|   11|\n",
      "|            Popeye's|    8|\n",
      "|         Ohana Sushi|    6|\n",
      "|          Winn Dixie|   23|\n",
      "|       Buca di Beppo|    9|\n",
      "+--------------------+-----+\n",
      "only showing top 20 rows\n",
      "\n"
     ]
    }
   ],
   "source": [
    "#4. Analyze review.json, business.json, and a view created from your answer to Q3 to find the businesses that have been reviewed by more than 5 influencer users.\n",
    "bus_rev=business.join(reviews, on='business_id', how='inner')\n",
    "bus_rev_influ=bus_rev.join(influ, on='user_id', how='inner')\n",
    "grouped=bus_rev_influ.groupBy('name').count()\n",
    "grouped.filter(grouped['count']>5).show()"
   ]
  },
  {
   "cell_type": "code",
   "execution_count": 13,
   "id": "c7602375-7a05-409b-86a3-ebcd194f01b2",
   "metadata": {
    "execution": {
     "iopub.execute_input": "2023-05-14T18:07:46.553336Z",
     "iopub.status.busy": "2023-05-14T18:07:46.552678Z",
     "iopub.status.idle": "2023-05-14T18:07:54.893328Z",
     "shell.execute_reply": "2023-05-14T18:07:54.891364Z",
     "shell.execute_reply.started": "2023-05-14T18:07:46.553293Z"
    },
    "tags": []
   },
   "outputs": [
    {
     "data": {
      "text/plain": [
       "5506"
      ]
     },
     "execution_count": 13,
     "metadata": {},
     "output_type": "execute_result"
    }
   ],
   "source": [
    "grouped=bus_rev_influ.groupBy('name').count()\n",
    "grouped.filter(grouped['count']>5).count()"
   ]
  },
  {
   "cell_type": "code",
   "execution_count": 14,
   "id": "55cc3785-2bd6-4b70-ab51-4c060abd857d",
   "metadata": {
    "execution": {
     "iopub.execute_input": "2023-05-14T18:07:54.896249Z",
     "iopub.status.busy": "2023-05-14T18:07:54.895532Z",
     "iopub.status.idle": "2023-05-14T18:08:02.090696Z",
     "shell.execute_reply": "2023-05-14T18:08:02.088280Z",
     "shell.execute_reply.started": "2023-05-14T18:07:54.896201Z"
    }
   },
   "outputs": [
    {
     "data": {
      "text/plain": [
       "5119"
      ]
     },
     "execution_count": 14,
     "metadata": {},
     "output_type": "execute_result"
    }
   ],
   "source": [
    "rev_influ = reviews.join(influ, on='user_id', how='right').groupBy('business_id').count()\n",
    "rev_influ.filter(rev_influ['count']>5).count()"
   ]
  },
  {
   "cell_type": "code",
   "execution_count": 15,
   "id": "57658f53-add7-4734-bbe5-ed4d151b8b75",
   "metadata": {
    "execution": {
     "iopub.execute_input": "2023-05-14T18:08:02.152756Z",
     "iopub.status.busy": "2023-05-14T18:08:02.151679Z",
     "iopub.status.idle": "2023-05-14T18:08:04.863908Z",
     "shell.execute_reply": "2023-05-14T18:08:04.862119Z",
     "shell.execute_reply.started": "2023-05-14T18:08:02.152676Z"
    },
    "tags": []
   },
   "outputs": [
    {
     "name": "stdout",
     "output_type": "stream",
     "text": [
      "+--------------------+\n",
      "|             user_id|\n",
      "+--------------------+\n",
      "|uVRumIjYImzUFc6tr...|\n",
      "|ydeAqVSr2HX9TR2bl...|\n",
      "|vx3OD6YC3kOk4oneH...|\n",
      "|VWY7PSIrt-tCyHA-S...|\n",
      "|_qOk1DJ_RRtXrgs3T...|\n",
      "|I7KT8qSLXVeOM7ogN...|\n",
      "|CcXrryd_EJTKWooSL...|\n",
      "|qyzpifW3ORv-EGV27...|\n",
      "|W63wG-8u70acKeKFA...|\n",
      "|Pv6FIXQbWiOZ28lSJ...|\n",
      "|A9qxTwz7gFhCjix5A...|\n",
      "|GG9a0eV6w9cKVpVrT...|\n",
      "|AeKwjnERVN4YbK-Ry...|\n",
      "|K1WzrU75btX-CMiPk...|\n",
      "|rAIwdOYiYHIwECXMz...|\n",
      "|1xmV57LXBAsCWRNDT...|\n",
      "|PaLjKU7MLLWpLokba...|\n",
      "|meihVP_0q6SyVLVYW...|\n",
      "|PQLQocTQpDwc3C0IB...|\n",
      "|XUMkFho1Ly9A-b5UY...|\n",
      "+--------------------+\n",
      "only showing top 20 rows\n",
      "\n"
     ]
    }
   ],
   "source": [
    "users.select('user_id').orderBy('average_stars', ascending=False).show()"
   ]
  },
  {
   "cell_type": "code",
   "execution_count": 16,
   "id": "ea911f56-d889-448d-adec-e6bb194128fe",
   "metadata": {
    "execution": {
     "iopub.execute_input": "2023-05-14T18:08:04.866841Z",
     "iopub.status.busy": "2023-05-14T18:08:04.866123Z",
     "iopub.status.idle": "2023-05-14T18:08:16.257472Z",
     "shell.execute_reply": "2023-05-14T18:08:16.256136Z",
     "shell.execute_reply.started": "2023-05-14T18:08:04.866786Z"
    },
    "tags": []
   },
   "outputs": [
    {
     "name": "stdout",
     "output_type": "stream",
     "text": [
      "+--------------------+-----+\n",
      "|         business_id|count|\n",
      "+--------------------+-----+\n",
      "|yMdl4xS-XZLgeFQ9k...|    1|\n",
      "|h_6ioAoKNLi01kPho...|    2|\n",
      "|S27cRb1jq0Q7QUYqE...|    3|\n",
      "|vXb4OWsjPoiBtmarf...|    6|\n",
      "|QKQnFTZzCXyr0NIi9...|    1|\n",
      "|NY_sXepAjc83v58_1...|    4|\n",
      "|3fPvGGLaH29WkXXcO...|   10|\n",
      "|LmRyuir7orBNN43fy...|    6|\n",
      "|3VrqxApK-iwfRohlA...|    1|\n",
      "|2fJ-WxJlUN6azp3bz...|   15|\n",
      "|iipnazeY9eoANJ37l...|    1|\n",
      "|Mb7EELlpx1E9hA0pS...|    2|\n",
      "|2IahpaBR4U2Kdy9HF...|   22|\n",
      "|bPoU-QnlvgbTZWqsE...|    3|\n",
      "|bncTqUdA8ZPcUkDDm...|    6|\n",
      "|0wZJkj-OnZ7Pmubls...|   22|\n",
      "|WvlCQhLQGza1wj0Ho...|    2|\n",
      "|2y_CdkxEOJEJGyJAp...|    1|\n",
      "|E9a5O6ONNgly2IfDf...|    1|\n",
      "|3FKIev7ZB_KE6XHL9...|    8|\n",
      "+--------------------+-----+\n",
      "only showing top 20 rows\n",
      "\n"
     ]
    },
    {
     "data": {
      "text/plain": [
       "5119"
      ]
     },
     "execution_count": 16,
     "metadata": {},
     "output_type": "execute_result"
    }
   ],
   "source": [
    "influ_count = reviews.join(influ, on=\"user_id\", how=\"right\")\\\n",
    "        .groupBy('business_id').count()\n",
    "influ_count.show()\n",
    "\n",
    "influ_count.filter(influ_count['count'] > 5)\\\n",
    "        .join(business, on='business_id', how='left').select('name').count()"
   ]
  },
  {
   "cell_type": "code",
   "execution_count": 17,
   "id": "e29c4a10-3ebe-438f-abcf-55b1ed9116c7",
   "metadata": {
    "execution": {
     "iopub.execute_input": "2023-05-14T18:08:16.261242Z",
     "iopub.status.busy": "2023-05-14T18:08:16.260386Z",
     "iopub.status.idle": "2023-05-14T18:08:16.270500Z",
     "shell.execute_reply": "2023-05-14T18:08:16.269360Z",
     "shell.execute_reply.started": "2023-05-14T18:08:16.261186Z"
    },
    "tags": []
   },
   "outputs": [
    {
     "name": "stdout",
     "output_type": "stream",
     "text": [
      "root\n",
      " |-- average_stars: double (nullable = true)\n",
      " |-- compliment_cool: long (nullable = true)\n",
      " |-- compliment_cute: long (nullable = true)\n",
      " |-- compliment_funny: long (nullable = true)\n",
      " |-- compliment_hot: long (nullable = true)\n",
      " |-- compliment_list: long (nullable = true)\n",
      " |-- compliment_more: long (nullable = true)\n",
      " |-- compliment_note: long (nullable = true)\n",
      " |-- compliment_photos: long (nullable = true)\n",
      " |-- compliment_plain: long (nullable = true)\n",
      " |-- compliment_profile: long (nullable = true)\n",
      " |-- compliment_writer: long (nullable = true)\n",
      " |-- cool: long (nullable = true)\n",
      " |-- elite: string (nullable = true)\n",
      " |-- fans: long (nullable = true)\n",
      " |-- friends: string (nullable = true)\n",
      " |-- funny: long (nullable = true)\n",
      " |-- name: string (nullable = true)\n",
      " |-- review_count: long (nullable = true)\n",
      " |-- useful: long (nullable = true)\n",
      " |-- user_id: string (nullable = true)\n",
      " |-- yelping_since: string (nullable = true)\n",
      "\n"
     ]
    }
   ],
   "source": [
    "users.printSchema()"
   ]
  },
  {
   "cell_type": "code",
   "execution_count": 18,
   "id": "7172d283-edd4-45df-a56c-5962ad28b772",
   "metadata": {
    "execution": {
     "iopub.execute_input": "2023-05-14T18:08:16.273112Z",
     "iopub.status.busy": "2023-05-14T18:08:16.272503Z",
     "iopub.status.idle": "2023-05-14T18:08:16.425530Z",
     "shell.execute_reply": "2023-05-14T18:08:16.423550Z",
     "shell.execute_reply.started": "2023-05-14T18:08:16.273071Z"
    },
    "tags": []
   },
   "outputs": [
    {
     "name": "stdout",
     "output_type": "stream",
     "text": [
      "root\n",
      " |-- business_id: string (nullable = true)\n",
      " |-- cool: long (nullable = true)\n",
      " |-- date: string (nullable = true)\n",
      " |-- funny: long (nullable = true)\n",
      " |-- review_id: string (nullable = true)\n",
      " |-- stars: double (nullable = true)\n",
      " |-- text: string (nullable = true)\n",
      " |-- useful: long (nullable = true)\n",
      " |-- user_id: string (nullable = true)\n",
      "\n"
     ]
    }
   ],
   "source": [
    "reviews.printSchema()"
   ]
  },
  {
   "cell_type": "code",
   "execution_count": null,
   "id": "989a7f1f-9bcf-4338-a8f3-9723a2c458a1",
   "metadata": {
    "tags": []
   },
   "outputs": [],
   "source": [
    "#5. Analyze review.json and user.json to find an ordered list of users based on the average star counts they have given in all their reviews.\n",
    "avg = users.select('user_id', 'average_stars','review_count')\\\n",
    ".orderBy('average_stars', ascending=False).show() #the easy way\n",
    "avg.show()\n",
    "avg.count()"
   ]
  },
  {
   "cell_type": "code",
   "execution_count": 20,
   "id": "4586acf9-a5d1-4e6c-afef-26cb3933f25c",
   "metadata": {
    "execution": {
     "iopub.execute_input": "2023-05-14T18:15:08.548296Z",
     "iopub.status.busy": "2023-05-14T18:15:08.547495Z",
     "iopub.status.idle": "2023-05-14T18:15:23.393998Z",
     "shell.execute_reply": "2023-05-14T18:15:23.392461Z",
     "shell.execute_reply.started": "2023-05-14T18:15:08.548238Z"
    },
    "tags": []
   },
   "outputs": [
    {
     "name": "stdout",
     "output_type": "stream",
     "text": [
      "+--------------------+----------------+---------+\n",
      "|             user_id|count(review_id)|avg_stars|\n",
      "+--------------------+----------------+---------+\n",
      "|--zU_p1sxo-W-ae_D...|               3|      5.0|\n",
      "|-0-2SQH-1t7jKTP2i...|               1|      5.0|\n",
      "|-0-_vUr91ASWssEyv...|               2|      5.0|\n",
      "|--_Q0PF6V_QhCh2yn...|               1|      5.0|\n",
      "|-02nZw0C2L13YM1KW...|               1|      5.0|\n",
      "|--0S2HVJui8bEa2iV...|               1|      5.0|\n",
      "|-04yLlA6Z6BfAzYEF...|               1|      5.0|\n",
      "|--SXoMTx1URLFR_9e...|               2|      5.0|\n",
      "|-06iaHH01RX8se5IH...|               1|      5.0|\n",
      "|--W95nwm9MMB1Bs1x...|               4|      5.0|\n",
      "|-0AYXSEmt8tF4jBg_...|               2|      5.0|\n",
      "|--YWBD-491bjkqJWE...|               1|      5.0|\n",
      "|-0AhJU76qScGDAQ-m...|               1|      5.0|\n",
      "|--338aogPBCUUKGRH...|               1|      5.0|\n",
      "|-0CkKartWFGzSQotp...|               1|      5.0|\n",
      "|--cTSV869T8KKNIhN...|               1|      5.0|\n",
      "|-0FDPC6mDeA5k0gR3...|               1|      5.0|\n",
      "|--kgi4AWzsva7ekDT...|               2|      5.0|\n",
      "|-0Gh0BeM-WbxmkDis...|               1|      5.0|\n",
      "|--XmG4LSSdXePMm5N...|               1|      5.0|\n",
      "+--------------------+----------------+---------+\n",
      "only showing top 20 rows\n",
      "\n"
     ]
    },
    {
     "data": {
      "text/plain": [
       "1987897"
      ]
     },
     "execution_count": 20,
     "metadata": {},
     "output_type": "execute_result"
    }
   ],
   "source": [
    "rev_usr=reviews.join(users, on='user_id', how='inner')\\\n",
    ".groupBy('user_id')\\\n",
    ".agg({'stars':'avg', 'review_id':'count'})\\\n",
    ".withColumnRenamed('avg(stars)','avg_stars')\n",
    "rev_usr.orderBy('avg_stars', ascending=False).show()\n",
    "rev_usr.count()"
   ]
  },
  {
   "cell_type": "code",
   "execution_count": 21,
   "id": "d601a413-b5fe-489b-a6b7-d8cb680a6ae8",
   "metadata": {
    "execution": {
     "iopub.execute_input": "2023-05-14T18:15:23.482648Z",
     "iopub.status.busy": "2023-05-14T18:15:23.482423Z",
     "iopub.status.idle": "2023-05-14T18:15:23.570363Z",
     "shell.execute_reply": "2023-05-14T18:15:23.567689Z",
     "shell.execute_reply.started": "2023-05-14T18:15:23.482627Z"
    },
    "tags": []
   },
   "outputs": [
    {
     "ename": "AttributeError",
     "evalue": "'function' object has no attribute 'join'",
     "output_type": "error",
     "traceback": [
      "\u001b[0;31m---------------------------------------------------------------------------\u001b[0m",
      "\u001b[0;31mAttributeError\u001b[0m                            Traceback (most recent call last)",
      "Cell \u001b[0;32mIn[21], line 1\u001b[0m\n\u001b[0;32m----> 1\u001b[0m test \u001b[38;5;241m=\u001b[39m \u001b[43mavg\u001b[49m\u001b[38;5;241;43m.\u001b[39;49m\u001b[43mjoin\u001b[49m(rev_usr, on\u001b[38;5;241m=\u001b[39m\u001b[38;5;124m'\u001b[39m\u001b[38;5;124muser_id\u001b[39m\u001b[38;5;124m'\u001b[39m, how\u001b[38;5;241m=\u001b[39m\u001b[38;5;124m'\u001b[39m\u001b[38;5;124minner\u001b[39m\u001b[38;5;124m'\u001b[39m)\n\u001b[1;32m      2\u001b[0m test\u001b[38;5;241m.\u001b[39mshow()\n\u001b[1;32m      3\u001b[0m test\u001b[38;5;241m.\u001b[39mcount()\n",
      "\u001b[0;31mAttributeError\u001b[0m: 'function' object has no attribute 'join'"
     ]
    }
   ],
   "source": [
    "test = avg.join(rev_usr, on='user_id', how='inner')\n",
    "test.show()\n",
    "test.count()"
   ]
  },
  {
   "cell_type": "code",
   "execution_count": null,
   "id": "0cd31c8b-98de-4c38-ab42-b1582636d4d8",
   "metadata": {
    "execution": {
     "iopub.status.busy": "2023-05-14T18:15:23.571157Z",
     "iopub.status.idle": "2023-05-14T18:15:23.571521Z",
     "shell.execute_reply": "2023-05-14T18:15:23.571353Z",
     "shell.execute_reply.started": "2023-05-14T18:15:23.571334Z"
    },
    "tags": []
   },
   "outputs": [],
   "source": [
    "reviews.count()"
   ]
  },
  {
   "cell_type": "code",
   "execution_count": null,
   "id": "261c473a-c4eb-45b5-bf6f-41e26a521c69",
   "metadata": {
    "execution": {
     "iopub.status.busy": "2023-05-14T18:15:23.572534Z",
     "iopub.status.idle": "2023-05-14T18:15:23.572876Z",
     "shell.execute_reply": "2023-05-14T18:15:23.572718Z",
     "shell.execute_reply.started": "2023-05-14T18:15:23.572699Z"
    },
    "tags": []
   },
   "outputs": [],
   "source": [
    "users.select('review_count').groupBy().sum().collect()"
   ]
  },
  {
   "cell_type": "code",
   "execution_count": null,
   "id": "a5c8c325-cf62-4de3-ae30-7100c6d47f97",
   "metadata": {
    "execution": {
     "iopub.status.busy": "2023-05-14T18:15:23.574261Z",
     "iopub.status.idle": "2023-05-14T18:15:23.574978Z",
     "shell.execute_reply": "2023-05-14T18:15:23.574794Z",
     "shell.execute_reply.started": "2023-05-14T18:15:23.574774Z"
    },
    "tags": []
   },
   "outputs": [],
   "source": [
    "###Include both numbers in the final report. Write that the discrepancy might be because 1)the statistics include empty reviews with star rating while the reviews dataset doesn't 2)reviews might be only from a certain time period,\n",
    "#and statistics calculated over the whole existence."
   ]
  },
  {
   "attachments": {},
   "cell_type": "markdown",
   "id": "f3d55440-8773-4f45-97aa-14442cd24814",
   "metadata": {},
   "source": [
    "## 3.2 Authenticity Study"
   ]
  },
  {
   "cell_type": "code",
   "execution_count": 6,
   "id": "891ca088-8d08-48ac-af1f-6ffdc4d41761",
   "metadata": {
    "execution": {
     "iopub.execute_input": "2023-05-14T18:21:18.716432Z",
     "iopub.status.busy": "2023-05-14T18:21:18.715469Z",
     "iopub.status.idle": "2023-05-14T18:21:18.736622Z",
     "shell.execute_reply": "2023-05-14T18:21:18.735373Z",
     "shell.execute_reply.started": "2023-05-14T18:21:18.716377Z"
    },
    "tags": []
   },
   "outputs": [
    {
     "name": "stdout",
     "output_type": "stream",
     "text": [
      "root\n",
      " |-- business_id: string (nullable = true)\n",
      " |-- cool: long (nullable = true)\n",
      " |-- date: string (nullable = true)\n",
      " |-- funny: long (nullable = true)\n",
      " |-- review_id: string (nullable = true)\n",
      " |-- stars: double (nullable = true)\n",
      " |-- text: string (nullable = true)\n",
      " |-- useful: long (nullable = true)\n",
      " |-- user_id: string (nullable = true)\n",
      "\n"
     ]
    }
   ],
   "source": [
    "reviews.printSchema()"
   ]
  },
  {
   "cell_type": "code",
   "execution_count": null,
   "id": "8abf3d0e-018b-4501-8f71-d4e5d92858b4",
   "metadata": {
    "execution": {
     "iopub.status.busy": "2023-05-14T18:15:23.577140Z",
     "iopub.status.idle": "2023-05-14T18:15:23.577402Z",
     "shell.execute_reply": "2023-05-14T18:15:23.577281Z",
     "shell.execute_reply.started": "2023-05-14T18:15:23.577267Z"
    },
    "tags": []
   },
   "outputs": [],
   "source": [
    "business.printSchema()"
   ]
  },
  {
   "cell_type": "code",
   "execution_count": null,
   "id": "89ac089e-047b-44f5-a599-72f61ed74cf6",
   "metadata": {
    "execution": {
     "iopub.status.busy": "2023-05-14T18:15:23.578103Z",
     "iopub.status.idle": "2023-05-14T18:15:23.578370Z",
     "shell.execute_reply": "2023-05-14T18:15:23.578250Z",
     "shell.execute_reply.started": "2023-05-14T18:15:23.578236Z"
    },
    "tags": []
   },
   "outputs": [],
   "source": [
    "business.select('categories').show(20, False)"
   ]
  },
  {
   "cell_type": "code",
   "execution_count": null,
   "id": "a5f04c88-2700-47d3-93cf-434ea10c3e97",
   "metadata": {
    "execution": {
     "iopub.status.busy": "2023-05-14T18:15:23.579074Z",
     "iopub.status.idle": "2023-05-14T18:15:23.579336Z",
     "shell.execute_reply": "2023-05-14T18:15:23.579216Z",
     "shell.execute_reply.started": "2023-05-14T18:15:23.579202Z"
    },
    "tags": []
   },
   "outputs": [],
   "source": [
    "expr = \"Restaurants\"\n",
    "bs = business.filter(business[\"categories\"].rlike(expr))\n",
    "bs.select('categories').show(20, False)"
   ]
  },
  {
   "cell_type": "code",
   "execution_count": null,
   "id": "8aeac0df-6ade-4833-939c-75740c105418",
   "metadata": {
    "execution": {
     "iopub.status.busy": "2023-05-14T18:15:23.580125Z",
     "iopub.status.idle": "2023-05-14T18:15:23.580392Z",
     "shell.execute_reply": "2023-05-14T18:15:23.580272Z",
     "shell.execute_reply.started": "2023-05-14T18:15:23.580258Z"
    },
    "tags": []
   },
   "outputs": [],
   "source": [
    "from pyspark.sql.functions import when"
   ]
  },
  {
   "cell_type": "code",
   "execution_count": null,
   "id": "b96c8369-c72e-4537-b672-1e69b186497e",
   "metadata": {
    "execution": {
     "iopub.status.busy": "2023-05-14T18:15:23.651824Z",
     "iopub.status.idle": "2023-05-14T18:15:23.652655Z",
     "shell.execute_reply": "2023-05-14T18:15:23.652385Z",
     "shell.execute_reply.started": "2023-05-14T18:15:23.652351Z"
    },
    "tags": []
   },
   "outputs": [],
   "source": [
    "bs = bs.withColumn(\"cuisine\", when(bs.categories.rlike(\"Mexican\"), \"Mexican\")\\\n",
    "         .when(bs.categories.rlike(\"Thai\"), \"Thai\")\\\n",
    "         .when(bs.categories.rlike(\"Japanese\"), \"Japanese\")\\\n",
    "         .when(bs.categories.rlike(\"Chinese\"), \"Chinese\")\\\n",
    "         .when(bs.categories.rlike(\"French\"), \"French\")\\\n",
    "         .when(bs.categories.rlike(\"Italian\"), \"Italian\")\\\n",
    "         .when(bs.categories.rlike(\"Korean\"), \"Korean\")\\\n",
    "         .when(bs.categories.rlike(\"Indian\"), \"Indian\")\\\n",
    " #       .when(bs.categories.rlike(\"American\"),\"American\")\\\n",
    " #       .when(bs.categories.rlike(\"Greek\"),\"Greek\")\n",
    " #       .when(bs.categories.rlike(\"Vietnamese\"),\"Vietnamese\")\n",
    "         .otherwise(\"\"))\n",
    "bs = bs.filter(bs.cuisine != \"\")\n",
    "    \n",
    "bs.select('categories','cuisine').show(40, False)"
   ]
  },
  {
   "cell_type": "code",
   "execution_count": null,
   "id": "be0587ad-5f41-4905-a246-a92119325cdb",
   "metadata": {
    "execution": {
     "iopub.status.busy": "2023-05-14T18:15:23.655358Z",
     "iopub.status.idle": "2023-05-14T18:15:23.656096Z",
     "shell.execute_reply": "2023-05-14T18:15:23.655817Z",
     "shell.execute_reply.started": "2023-05-14T18:15:23.655786Z"
    },
    "tags": []
   },
   "outputs": [],
   "source": [
    "##What is the percentage of reviews containing a variant of the word \"authentic\"? How many reviews contain the string \"legitimate\" grouped by type of cuisine?\n",
    "\n",
    "df = bs.join(reviews, on='business_id', how='left')\n",
    "auth = df.filter(df.text.rlike(\"auth\"))\n",
    "print(auth.count()/df.count()*100, '% of reviews contain a variant of the word \"authentic\"')\n",
    "\n",
    "#add synonyms here, but this is not as easy as adding the | operator unfortunately."
   ]
  },
  {
   "cell_type": "code",
   "execution_count": null,
   "id": "27a5a204-cd26-4f03-9b70-260a162e6632",
   "metadata": {
    "execution": {
     "iopub.status.busy": "2023-05-14T18:15:23.659335Z",
     "iopub.status.idle": "2023-05-14T18:15:23.660330Z",
     "shell.execute_reply": "2023-05-14T18:15:23.659982Z",
     "shell.execute_reply.started": "2023-05-14T18:15:23.659925Z"
    },
    "tags": []
   },
   "outputs": [],
   "source": [
    "legit = df.filter(df.text.rlike(\"authentic\"))\n",
    "legit = legit.groupBy(\"cuisine\").count()\n",
    "total = df.groupBy(\"cuisine\").count()\n",
    "total.join(legit, on=\"cuisine\").show()\n"
   ]
  },
  {
   "cell_type": "code",
   "execution_count": null,
   "id": "6120f6b1-78e9-40b0-b7fc-d90a662e57ef",
   "metadata": {
    "execution": {
     "iopub.status.busy": "2023-05-14T18:15:23.663058Z",
     "iopub.status.idle": "2023-05-14T18:15:23.664041Z",
     "shell.execute_reply": "2023-05-14T18:15:23.663643Z",
     "shell.execute_reply.started": "2023-05-14T18:15:23.663578Z"
    },
    "tags": []
   },
   "outputs": [],
   "source": [
    "lang = df.withColumn(\"auth_score\",\n",
    "    when(df.text.rlike(\"legit\") | df.text.rlike(\"auth\"), 1).otherwise(0))\n",
    "\n",
    "lang.groupBy('state').avg('auth_score').show()             "
   ]
  },
  {
   "cell_type": "code",
   "execution_count": null,
   "id": "40417539-9cf3-4646-b011-9c3710b9a5f0",
   "metadata": {
    "execution": {
     "iopub.status.busy": "2023-05-14T18:15:23.666662Z",
     "iopub.status.idle": "2023-05-14T18:15:23.667222Z",
     "shell.execute_reply": "2023-05-14T18:15:23.667030Z",
     "shell.execute_reply.started": "2023-05-14T18:15:23.667007Z"
    },
    "tags": []
   },
   "outputs": [],
   "source": [
    "lang.select('state').distinct().count()"
   ]
  },
  {
   "cell_type": "code",
   "execution_count": null,
   "id": "05a6e6f6-6fb6-40be-a53b-f729a4689029",
   "metadata": {
    "execution": {
     "iopub.status.busy": "2023-05-14T18:15:23.669476Z",
     "iopub.status.idle": "2023-05-14T18:15:23.670362Z",
     "shell.execute_reply": "2023-05-14T18:15:23.670166Z",
     "shell.execute_reply.started": "2023-05-14T18:15:23.670142Z"
    },
    "tags": []
   },
   "outputs": [],
   "source": [
    "lang.groupBy('cuisine').avg('auth_score').show()"
   ]
  },
  {
   "cell_type": "code",
   "execution_count": null,
   "id": "ca59d931-bd68-438e-9b02-d279e2573f91",
   "metadata": {
    "execution": {
     "iopub.status.busy": "2023-05-14T18:15:23.672740Z",
     "iopub.status.idle": "2023-05-14T18:15:23.673393Z",
     "shell.execute_reply": "2023-05-14T18:15:23.673194Z",
     "shell.execute_reply.started": "2023-05-14T18:15:23.673171Z"
    },
    "tags": []
   },
   "outputs": [],
   "source": [
    "cube = lang.cube('state', 'auth_score').count().orderBy(\"state\", \"auth_score\")\n",
    "\n",
    "positive = cube.filter(cube.auth_score==1)\n",
    "positive.show()"
   ]
  },
  {
   "cell_type": "code",
   "execution_count": null,
   "id": "334e445b-8802-4fc9-9c62-b5103da7ef63",
   "metadata": {
    "execution": {
     "iopub.status.busy": "2023-05-14T18:15:23.675357Z",
     "iopub.status.idle": "2023-05-14T18:15:23.752117Z",
     "shell.execute_reply": "2023-05-14T18:15:23.751669Z",
     "shell.execute_reply.started": "2023-05-14T18:15:23.751615Z"
    },
    "tags": []
   },
   "outputs": [],
   "source": [
    "cube2 = lang.cube('state', 'cuisine').avg('auth_score').orderBy('avg(auth_score)')\n",
    "cube2 = cube2.filter(cube2.state.isNotNull() & cube2.cuisine.isNotNull())\n",
    "cube2.show()\n",
    "cube2.orderBy('avg(auth_score)', ascending=False).show()"
   ]
  },
  {
   "cell_type": "code",
   "execution_count": null,
   "id": "69378f1d-6250-4aff-a273-f304b28db80f",
   "metadata": {
    "execution": {
     "iopub.status.busy": "2023-05-14T18:15:23.756157Z",
     "iopub.status.idle": "2023-05-14T18:15:23.757100Z",
     "shell.execute_reply": "2023-05-14T18:15:23.756743Z",
     "shell.execute_reply.started": "2023-05-14T18:15:23.756703Z"
    },
    "tags": []
   },
   "outputs": [],
   "source": [
    "bad = lang.withColumn(\"bad_score\",\n",
    "    when(df.text.rlike(\"kitsch\")\\\n",
    "        | df.text.rlike(\"bad\")\\\n",
    "        | df.text.rlike(\"simple\")\\\n",
    "        | df.text.rlike(\"disgusting\")\\\n",
    "        | df.text.rlike(\"dirty\")\\\n",
    "        | df.text.rlike(\"cheap\")\\\n",
    "        | df.text.rlike(\"rude\"), 1).otherwise(0))\n",
    "\n",
    "bad.select('auth_score','bad_score').show()"
   ]
  },
  {
   "cell_type": "code",
   "execution_count": null,
   "id": "06109fda-e1e3-4ba7-a751-2179374219a5",
   "metadata": {
    "execution": {
     "iopub.status.busy": "2023-05-14T18:15:23.759625Z",
     "iopub.status.idle": "2023-05-14T18:15:23.760618Z",
     "shell.execute_reply": "2023-05-14T18:15:23.760278Z",
     "shell.execute_reply.started": "2023-05-14T18:15:23.760237Z"
    },
    "tags": []
   },
   "outputs": [],
   "source": [
    "cuisines = ['Mexican', 'Thai', 'Indian', 'Chinese', 'Japanese', 'Italian', 'Korean', 'French']\n",
    "results=[]\n",
    "for cuisine in cuisines:\n",
    "        results.append(bad.filter(bad.cuisine == cuisine) \\\n",
    "              .stat.corr(\"auth_score\", \"bad_score\"))\n",
    "        \n",
    "print(results)"
   ]
  },
  {
   "attachments": {},
   "cell_type": "markdown",
   "id": "73ea6ce0-1183-48df-8243-a2730aef12f8",
   "metadata": {},
   "source": [
    "## Machine Learning"
   ]
  },
  {
   "cell_type": "code",
   "execution_count": 7,
   "id": "c2b3e1ef-2edf-477a-9398-17331baa0484",
   "metadata": {
    "execution": {
     "iopub.execute_input": "2023-05-14T18:21:23.607061Z",
     "iopub.status.busy": "2023-05-14T18:21:23.606251Z",
     "iopub.status.idle": "2023-05-14T18:21:23.614422Z",
     "shell.execute_reply": "2023-05-14T18:21:23.613219Z",
     "shell.execute_reply.started": "2023-05-14T18:21:23.607007Z"
    },
    "tags": []
   },
   "outputs": [
    {
     "name": "stdout",
     "output_type": "stream",
     "text": [
      "root\n",
      " |-- business_id: string (nullable = true)\n",
      " |-- cool: long (nullable = true)\n",
      " |-- date: string (nullable = true)\n",
      " |-- funny: long (nullable = true)\n",
      " |-- review_id: string (nullable = true)\n",
      " |-- stars: double (nullable = true)\n",
      " |-- text: string (nullable = true)\n",
      " |-- useful: long (nullable = true)\n",
      " |-- user_id: string (nullable = true)\n",
      "\n"
     ]
    }
   ],
   "source": [
    "reviews.printSchema()"
   ]
  },
  {
   "cell_type": "code",
   "execution_count": 8,
   "id": "eebd2f4e-2328-47a5-ba54-c5e4f01d1c23",
   "metadata": {
    "execution": {
     "iopub.execute_input": "2023-05-14T18:21:24.947183Z",
     "iopub.status.busy": "2023-05-14T18:21:24.946403Z",
     "iopub.status.idle": "2023-05-14T18:21:28.555500Z",
     "shell.execute_reply": "2023-05-14T18:21:28.553752Z",
     "shell.execute_reply.started": "2023-05-14T18:21:24.947127Z"
    },
    "tags": []
   },
   "outputs": [
    {
     "name": "stdout",
     "output_type": "stream",
     "text": [
      "+--------------------+-----+\n",
      "|          text_array|stars|\n",
      "+--------------------+-----+\n",
      "|[If, you, decide,...|  3.0|\n",
      "|[I've, taken, a, ...|  5.0|\n",
      "|[Family, diner., ...|  3.0|\n",
      "|[Wow!, , Yummy,, ...|  5.0|\n",
      "|[Cute, interior, ...|  4.0|\n",
      "|[I, am, a, long, ...|  1.0|\n",
      "|[Loved, this, tou...|  5.0|\n",
      "|[Amazingly, amazi...|  5.0|\n",
      "|[This, easter, in...|  3.0|\n",
      "|[Had, a, party, o...|  3.0|\n",
      "|[My, experience, ...|  5.0|\n",
      "|[Locals, recommen...|  4.0|\n",
      "|[Love, going, her...|  4.0|\n",
      "|[Good, food--love...|  4.0|\n",
      "|[The, bun, makes,...|  4.0|\n",
      "|[Great, place, fo...|  5.0|\n",
      "|[Tremendous, serv...|  5.0|\n",
      "|[The, hubby, and,...|  4.0|\n",
      "|[I, go, to, blow,...|  5.0|\n",
      "|[My, absolute, fa...|  5.0|\n",
      "+--------------------+-----+\n",
      "only showing top 20 rows\n",
      "\n"
     ]
    }
   ],
   "source": [
    "from pyspark.ml.tuning import TrainValidationSplit\n",
    "from pyspark.ml.feature import CountVectorizer\n",
    "import pyspark.sql.functions as F\n",
    "import pyspark.sql.types as T\n",
    "\n",
    "\n",
    "data = reviews.select(F.split(F.col(\"text\"),\" \").alias(\"text_array\"), 'stars') \\\n",
    "    .drop(\"text\")\n",
    "data.show()"
   ]
  },
  {
   "cell_type": "code",
   "execution_count": null,
   "id": "606debb9-db19-4a2a-a09d-f8c48ea8013e",
   "metadata": {
    "execution": {
     "iopub.status.busy": "2023-05-14T18:42:38.912977Z",
     "iopub.status.idle": "2023-05-14T18:42:38.913236Z",
     "shell.execute_reply": "2023-05-14T18:42:38.913118Z",
     "shell.execute_reply.started": "2023-05-14T18:42:38.913105Z"
    },
    "tags": []
   },
   "outputs": [],
   "source": [
    "from pyspark.ml.feature import CountVectorizer\n",
    "\n",
    "# fit a CountVectorizerModel from the corpus.\n",
    "cv = CountVectorizer(inputCol=\"text_array\", outputCol=\"features\")\n",
    "\n",
    "model = cv.fit(data)\n",
    "\n",
    "result = model.transform(data)\n",
    "result.show(truncate=False)"
   ]
  },
  {
   "cell_type": "code",
   "execution_count": null,
   "id": "14fef9f1-ba14-4c01-836c-7b8e01bf573e",
   "metadata": {},
   "outputs": [],
   "source": [
    "data = result.drop(\"text_array\")"
   ]
  },
  {
   "cell_type": "code",
   "execution_count": null,
   "id": "9ec0c59b-a6b7-4dc1-91fe-a19235a20c7c",
   "metadata": {
    "execution": {
     "iopub.status.busy": "2023-05-14T18:23:48.370280Z",
     "iopub.status.idle": "2023-05-14T18:23:48.370592Z",
     "shell.execute_reply": "2023-05-14T18:23:48.370457Z",
     "shell.execute_reply.started": "2023-05-14T18:23:48.370440Z"
    },
    "tags": []
   },
   "outputs": [],
   "source": [
    "# Prepare training and test data.\n",
    "train, test = data.randomSplit([0.9, 0.1], seed=1)"
   ]
  },
  {
   "cell_type": "code",
   "execution_count": null,
   "id": "731ddcb9-7856-4d75-94d8-3f82b3658aee",
   "metadata": {},
   "outputs": [],
   "source": [
    "from pyspark.ml.regression import LinearRegression\n",
    "\n",
    "#Train the model\n",
    "lr = LinearRegression(featuresCol = 'features', labelCol='stars', maxIter=10, regParam=0.3, elasticNetParam=0.8)\n",
    "lr_model = lr.fit(train)\n",
    "print(\"Coefficients: \" + str(lr_model.coefficients))\n",
    "print(\"Intercept: \" + str(lr_model.intercept))\n",
    "\n",
    "trainingSummary = lr_model.summary\n",
    "print(\"r2: %f\" % trainingSummary.r2)"
   ]
  },
  {
   "cell_type": "code",
   "execution_count": null,
   "id": "d628a998-9f24-42d4-ba60-48835ab3766e",
   "metadata": {},
   "outputs": [],
   "source": [
    "#Testing\n",
    "lr_predictions = lr_model.transform(test)\n",
    "lr_predictions.select(\"prediction\",\"stars\",\"features\").show(5)\n",
    "\n",
    "from pyspark.ml.evaluation import RegressionEvaluator\n",
    "\n",
    "lr_evaluator = RegressionEvaluator(predictionCol=\"prediction\", \\\n",
    "                 labelCol=\"stars\",metricName=\"r2\")\n",
    "\n",
    "print(\"R Squared (R2) on test data = %g\" % lr_evaluator.evaluate(lr_predictions))"
   ]
  },
  {
   "cell_type": "code",
   "execution_count": null,
   "id": "9ff256d7-fde4-4018-b0ce-811988fd9003",
   "metadata": {},
   "outputs": [],
   "source": []
  }
 ],
 "metadata": {
  "kernelspec": {
   "display_name": "Python 3 ",
   "language": "python",
   "name": "python3"
  },
  "language_info": {
   "codemirror_mode": {
    "name": "ipython",
    "version": 3
   },
   "file_extension": ".py",
   "mimetype": "text/x-python",
   "name": "python",
   "nbconvert_exporter": "python",
   "pygments_lexer": "ipython3",
   "version": "3.10.6"
  }
 },
 "nbformat": 4,
 "nbformat_minor": 5
}
